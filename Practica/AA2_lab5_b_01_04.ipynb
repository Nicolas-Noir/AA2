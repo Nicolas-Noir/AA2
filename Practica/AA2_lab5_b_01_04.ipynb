{
  "nbformat": 4,
  "nbformat_minor": 0,
  "metadata": {
    "colab": {
      "provenance": [],
      "include_colab_link": true
    },
    "kernelspec": {
      "name": "python3",
      "display_name": "Python 3"
    },
    "language_info": {
      "name": "python"
    }
  },
  "cells": [
    {
      "cell_type": "markdown",
      "metadata": {
        "id": "view-in-github",
        "colab_type": "text"
      },
      "source": [
        "<a href=\"https://colab.research.google.com/github/Nicolas-Noir/AA2-TUIA-2025/blob/main/Practica/AA2_lab5_b_01_04.ipynb\" target=\"_parent\"><img src=\"https://colab.research.google.com/assets/colab-badge.svg\" alt=\"Open In Colab\"/></a>"
      ]
    },
    {
      "cell_type": "markdown",
      "metadata": {
        "id": "cWlMc4mzm7KN"
      },
      "source": [
        "# Lab 5b - Clasificacion de imagenes: piedra, papel o tijeras.\n",
        "\n",
        "El objetivo de este laboratorio es entrenar un clasificador de imagenes para el siguiente dataset utilizando una red densa:\n",
        "\n",
        "https://public.roboflow.com/classification/rock-paper-scissors/"
      ]
    },
    {
      "cell_type": "markdown",
      "metadata": {
        "id": "xIfEIVyLm7KP"
      },
      "source": [
        "## Preparación del entorno.\n",
        "\n",
        "Si no estamos parados en el repo, clonar y cd al repo. Esto nos permite usar el mismo notebook tanto local como en Google Colab."
      ]
    },
    {
      "cell_type": "code",
      "execution_count": null,
      "metadata": {
        "id": "E50F0j7Fm7KP",
        "colab": {
          "base_uri": "https://localhost:8080/"
        },
        "outputId": "ad510482-eea7-4bda-9ef1-e9650aa3ca19"
      },
      "outputs": [
        {
          "output_type": "stream",
          "name": "stdout",
          "text": [
            "Cloning into 'lab5'...\n",
            "remote: Enumerating objects: 2962, done.\u001b[K\n",
            "remote: Counting objects: 100% (2962/2962), done.\u001b[K\n",
            "remote: Compressing objects: 100% (2958/2958), done.\u001b[K\n",
            "remote: Total 2962 (delta 6), reused 2957 (delta 3), pack-reused 0 (from 0)\u001b[K\n",
            "Receiving objects: 100% (2962/2962), 15.51 MiB | 13.86 MiB/s, done.\n",
            "Resolving deltas: 100% (6/6), done.\n"
          ]
        }
      ],
      "source": [
        "import os\n",
        "\n",
        "REPO_NAME = \"lab5\"\n",
        "if REPO_NAME not in os.getcwd():\n",
        "  if not os.path.exists(REPO_NAME):\n",
        "    !git clone https://github.com/FCEIA-AAII/{REPO_NAME}.git\n",
        "  os.chdir(REPO_NAME)\n",
        "\n"
      ]
    },
    {
      "cell_type": "markdown",
      "metadata": {
        "id": "-hec1xnLm7KQ"
      },
      "source": [
        "Importar librerías"
      ]
    },
    {
      "cell_type": "code",
      "execution_count": null,
      "metadata": {
        "id": "_uTNkJN_m7KQ"
      },
      "outputs": [],
      "source": [
        "import numpy as np\n",
        "import matplotlib.pyplot as plt\n",
        "import pandas as pd\n",
        "import tensorflow as tf\n",
        "from tensorflow.keras.models import Sequential\n",
        "from tensorflow.keras.layers import Dense, Flatten\n",
        "from PIL import Image"
      ]
    },
    {
      "cell_type": "markdown",
      "metadata": {
        "id": "wgceJ-RCm7KQ"
      },
      "source": [
        "Establecer GPU por defecto en caso de estar disponible."
      ]
    },
    {
      "cell_type": "code",
      "execution_count": null,
      "metadata": {
        "id": "fVBh5_9Hm7KR"
      },
      "outputs": [],
      "source": [
        "# Configurar para que TensorFlow utilice la GPU por defecto\n",
        "gpus = tf.config.experimental.list_physical_devices('GPU')\n",
        "if gpus:\n",
        "    try:\n",
        "        # Configurar para que TensorFlow asigne memoria dinámicamente\n",
        "        for gpu in gpus:\n",
        "            tf.config.experimental.set_memory_growth(gpu, True)\n",
        "        # Especificar la GPU por defecto\n",
        "        logical_gpus = tf.config.experimental.list_logical_devices('GPU')\n",
        "        print(len(gpus), \"Physical GPUs,\", len(logical_gpus), \"Logical GPUs\")\n",
        "    except RuntimeError as e:\n",
        "        # Manejar error\n",
        "        print(e)"
      ]
    },
    {
      "cell_type": "markdown",
      "metadata": {
        "id": "gNaDy4R2m7KR"
      },
      "source": [
        "Cargar y visualizar los datos."
      ]
    },
    {
      "cell_type": "code",
      "execution_count": null,
      "metadata": {
        "id": "WyhX7ljVm7KR",
        "colab": {
          "base_uri": "https://localhost:8080/",
          "height": 296
        },
        "outputId": "4b7653e9-dd89-49da-d341-c2be0cb2e43f"
      },
      "outputs": [
        {
          "output_type": "stream",
          "name": "stdout",
          "text": [
            "Ejemplos de entrenamiento: (2892, 64, 64)\n",
            "Ejemplos de test: (33, 64, 64)\n"
          ]
        },
        {
          "output_type": "display_data",
          "data": {
            "text/plain": [
              "<Figure size 1500x500 with 5 Axes>"
            ],
            "image/png": "[encoded data removed]"
          },
          "metadata": {}
        }
      ],
      "source": [
        "CLASS_NAMES = ['paper', 'rock', 'scissors']\n",
        "\n",
        "def load_dataset(directory, target_size=(64, 64)):\n",
        "    images = []\n",
        "    labels = []\n",
        "    classes = sorted(os.listdir(directory))\n",
        "    for class_idx, class_name in enumerate(classes):\n",
        "        class_dir = os.path.join(directory, class_name)\n",
        "        for image_name in os.listdir(class_dir):\n",
        "            image_path = os.path.join(class_dir, image_name)\n",
        "            image = Image.open(image_path).convert('L')  # Convertir a grayscale\n",
        "            image = image.resize(target_size)  # Resize the image\n",
        "            image = np.array(image)\n",
        "            images.append(image)\n",
        "            labels.append(CLASS_NAMES[class_idx])\n",
        "    return np.array(images), np.array(labels)\n",
        "\n",
        "# Dataset folder\n",
        "dataset_dir = 'rock-paper-scissors/'\n",
        "\n",
        "# Cargar el dataset\n",
        "X_train, y_train = load_dataset(os.path.join(dataset_dir, 'dataset'))\n",
        "X_test, y_test = load_dataset(os.path.join(dataset_dir, 'test-dataset-dense'))\n",
        "\n",
        "# Normalizing the data\n",
        "X_train, X_test = X_train / 255.0, X_test / 255.0\n",
        "print(\"Ejemplos de entrenamiento:\", X_train.shape)\n",
        "print(\"Ejemplos de test:\", X_test.shape)\n",
        "\n",
        "# Mostramos algunos ejemplos al azar:\n",
        "fig, axs = plt.subplots(1, 5, figsize=(15, 5))\n",
        "for i in range(5):\n",
        "    idx = np.random.randint(0, X_train.shape[0])\n",
        "    axs[i].imshow(X_train[idx], cmap='gray')\n",
        "    axs[i].set_title(f\"Label: {y_train[idx]}\")\n",
        "    axs[i].axis('off')\n",
        "plt.show()"
      ]
    }
  ]
}